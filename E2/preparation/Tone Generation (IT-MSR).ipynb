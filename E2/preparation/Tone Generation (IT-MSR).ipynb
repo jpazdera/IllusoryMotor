{
 "cells": [
  {
   "cell_type": "markdown",
   "metadata": {},
   "source": [
    "# Tone Generation: IT-Motor Split Range"
   ]
  },
  {
   "cell_type": "code",
   "execution_count": null,
   "metadata": {},
   "outputs": [],
   "source": [
    "import numpy as np\n",
    "import librosa as lba\n",
    "import soundfile as sf\n",
    "from random import random"
   ]
  },
  {
   "cell_type": "code",
   "execution_count": null,
   "metadata": {},
   "outputs": [],
   "source": [
    "# Set path to stimulus folder\n",
    "stimuli_folder = '../stimuli/'\n",
    "\n",
    "# Set sampling rate (Wave Shield can only play 22 kHz)\n",
    "sr = 22050\n",
    "\n",
    "# Set up duration of section of the amplitude envelope \n",
    "tone_duration = 250\n",
    "rise_duration = 10\n",
    "perc_duration = 240\n",
    "fade_duration = 10\n",
    "rise_length = int(rise_duration * sr / 1000)\n",
    "perc_length = int(perc_duration * sr / 1000)\n",
    "fade_length = int(fade_duration * sr / 1000)\n",
    "\n",
    "# Calculate frequencies for all tones from C2 to B7 (A4 = 440 Hz) by converting piano key numbers to Hz\n",
    "# (See en.wikipedia.org/wiki/Piano_key_frequencies for formula)\n",
    "piano_keynums = np.arange(16, 88)\n",
    "freqs = 440 * 2 ** ((piano_keynums - 49) / 12)\n",
    "\n",
    "# Generate names of all pitches from C2 to B7\n",
    "pitch_classes = ('C', 'Cs', 'D', 'Ds', 'E', 'F', 'Fs', 'G', 'Gs', 'A', 'As', 'B')\n",
    "pitch_names = [c + str(o) for o in range(2, 8) for c in pitch_classes]\n",
    "\n",
    "# Map pitch names to their frequencies\n",
    "tones = {p: freqs[i] for i, p in enumerate(pitch_names)}"
   ]
  },
  {
   "cell_type": "markdown",
   "metadata": {},
   "source": [
    "# Generate Tones"
   ]
  },
  {
   "cell_type": "code",
   "execution_count": null,
   "metadata": {},
   "outputs": [],
   "source": [
    "for pitch in ('A2', 'Ds3', 'A3', 'Ds4', 'A4', 'Ds5', 'A5', 'Ds6', 'A6', 'Ds7', 'A7'):\n",
    "\n",
    "    f = tones[pitch]\n",
    "    \n",
    "    # Generate fundamental frequency (co)sine wave\n",
    "    tone = lba.tone(f, sr=sr, duration=tone_duration / 1000)\n",
    "    \n",
    "    # Add first three harmonics with slope of -6 db/half amplitude per octave\n",
    "    for i in range(2):\n",
    "        phase = random() * 2 * np.pi\n",
    "        tone += lba.tone(f * (i + 2), sr=sr, duration=tone_duration / 1000, phi=phase) / (i + 2)\n",
    "    \n",
    "    # Rescale waveform to range [-1, 1] to prevent clipping\n",
    "    tone /= np.abs(tone).max()\n",
    "\n",
    "    # Apply exponential fade to create percussive envelope\n",
    "    tone[-perc_length:] *= np.geomspace(1, .01, perc_length)\n",
    "    # Apply short linear fade to ending so that amplitude fades to 0\n",
    "    tone[-fade_length:] *= np.linspace(1, 0, fade_length)\n",
    "    # Apply sharp linear rise to start of tone\n",
    "    tone[:rise_length] *= np.linspace(0, 1, rise_length)\n",
    "    \n",
    "    # Save tone\n",
    "    sf.write('../stimuli/raw/tone%s.wav' % pitch, tone, sr)"
   ]
  },
  {
   "cell_type": "markdown",
   "metadata": {},
   "source": [
    "## (Then balance tones in Audacity)"
   ]
  }
 ],
 "metadata": {
  "kernelspec": {
   "display_name": "Python 3 (ipykernel)",
   "language": "python",
   "name": "python3"
  },
  "language_info": {
   "codemirror_mode": {
    "name": "ipython",
    "version": 3
   },
   "file_extension": ".py",
   "mimetype": "text/x-python",
   "name": "python",
   "nbconvert_exporter": "python",
   "pygments_lexer": "ipython3",
   "version": "3.10.4"
  }
 },
 "nbformat": 4,
 "nbformat_minor": 4
}
